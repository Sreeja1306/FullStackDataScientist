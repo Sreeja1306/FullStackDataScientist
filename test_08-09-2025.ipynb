{
 "cells": [
  {
   "cell_type": "code",
   "execution_count": 20,
   "id": "083b612c",
   "metadata": {},
   "outputs": [
    {
     "name": "stdout",
     "output_type": "stream",
     "text": [
      "[2, 3, 5, 7, 11, 13, 17, 19, 23, 29, 31, 37, 41, 43, 47, 53, 59, 61, 67]\n"
     ]
    }
   ],
   "source": [
    "import math\n",
    "def prime(n):\n",
    "    primes = []\n",
    "    for i in range(2, n + 1):\n",
    "        is_prime = True\n",
    "        for j in range(2, int(math.sqrt(i))+1):\n",
    "            if i % j == 0:\n",
    "                is_prime = False\n",
    "                break\n",
    "        if is_prime:\n",
    "            primes.append(i)\n",
    "    return primes\n",
    "print(prime(70))\n"
   ]
  },
  {
   "cell_type": "code",
   "execution_count": 23,
   "id": "a91437a6",
   "metadata": {},
   "outputs": [
    {
     "data": {
      "text/plain": [
       "True"
      ]
     },
     "execution_count": 23,
     "metadata": {},
     "output_type": "execute_result"
    }
   ],
   "source": [
    "def palindrome(s):\n",
    "    str=\"\"\n",
    "    for i in range(len(s)):\n",
    "        if s[i]!=\" \":\n",
    "            str+=s[i]\n",
    "    if str.lower()==str[::-1].lower():\n",
    "        return True\n",
    "    else:\n",
    "        return False\n",
    "palindrome(\"Never odd or even\")"
   ]
  },
  {
   "cell_type": "code",
   "execution_count": 24,
   "id": "9d148ef0",
   "metadata": {},
   "outputs": [
    {
     "data": {
      "text/plain": [
       "True"
      ]
     },
     "execution_count": 24,
     "metadata": {},
     "output_type": "execute_result"
    }
   ],
   "source": [
    "def anagram(str1,str2):\n",
    "    if sorted(str1)==sorted(str2):\n",
    "        return True\n",
    "    else:\n",
    "        return False\n",
    "anagram(\"listen\",\"silent\")"
   ]
  },
  {
   "cell_type": "code",
   "execution_count": 25,
   "id": "ec85886e",
   "metadata": {},
   "outputs": [
    {
     "data": {
      "text/plain": [
       "(3, 7)"
      ]
     },
     "execution_count": 25,
     "metadata": {},
     "output_type": "execute_result"
    }
   ],
   "source": [
    "def vowels_consonants(s):\n",
    "    vowels = \"aeiouAEIOU\"\n",
    "    v_count = 0\n",
    "    c_count = 0\n",
    "    for char in s:\n",
    "        if char.isalpha():\n",
    "            if char in vowels:\n",
    "                v_count += 1\n",
    "            else:\n",
    "                c_count += 1\n",
    "    return v_count, c_count\n",
    "vowels_consonants(\"Hello World\")"
   ]
  },
  {
   "cell_type": "code",
   "execution_count": 58,
   "id": "ad2c5efd",
   "metadata": {},
   "outputs": [
    {
     "data": {
      "text/plain": [
       "'amazing'"
      ]
     },
     "execution_count": 58,
     "metadata": {},
     "output_type": "execute_result"
    }
   ],
   "source": [
    "def longest_word(s):\n",
    "    words=s.split()\n",
    "    longest=max(words,key=len)\n",
    "    return longest\n",
    "longest_word(\"Python is amazing\")"
   ]
  },
  {
   "cell_type": "code",
   "execution_count": 37,
   "id": "ab9edca8",
   "metadata": {},
   "outputs": [
    {
     "data": {
      "text/plain": [
       "'u6Wu^d'"
      ]
     },
     "execution_count": 37,
     "metadata": {},
     "output_type": "execute_result"
    }
   ],
   "source": [
    "import random\n",
    "def random_password(length):\n",
    "    characters = \"abcdefghijklmnopqrstuvwxyzABCDEFGHIJKLMNOPQRSTUVWXYZ0123456789!@#$%^&*()\"\n",
    "    password = ''.join(random.choice(characters) for _ in range(length))\n",
    "    return password\n",
    "random_password(6)"
   ]
  },
  {
   "cell_type": "code",
   "execution_count": 40,
   "id": "7380bf61",
   "metadata": {},
   "outputs": [
    {
     "data": {
      "text/plain": [
       "2.23606797749979"
      ]
     },
     "execution_count": 40,
     "metadata": {},
     "output_type": "execute_result"
    }
   ],
   "source": [
    "from math import sin,cos,sqrt,factorial\n",
    "def calculator(a,operation):\n",
    "    if operation==\"sin\":\n",
    "        return sin(a)\n",
    "    elif operation==\"cos\":\n",
    "        return cos(a)\n",
    "    elif operation==\"sqrt\":\n",
    "        return sqrt(a)\n",
    "    elif operation==\"factorial\":\n",
    "        return factorial(a)\n",
    "    else:\n",
    "        return \"Invalid operation\"\n",
    "calculator(5,\"sqrt\")\n"
   ]
  },
  {
   "cell_type": "code",
   "execution_count": 45,
   "id": "32457d9b",
   "metadata": {},
   "outputs": [
    {
     "data": {
      "text/plain": [
       "{'cat': 2, 'dog': 1}"
      ]
     },
     "execution_count": 45,
     "metadata": {},
     "output_type": "execute_result"
    }
   ],
   "source": [
    "from collections import Counter\n",
    "def word_frequency(s):\n",
    "    words = s.split()\n",
    "    frequency = Counter(words)\n",
    "    return dict(frequency)\n",
    "word_frequency(\"cat dog cat\")"
   ]
  },
  {
   "cell_type": "code",
   "execution_count": 46,
   "id": "9b412a88",
   "metadata": {},
   "outputs": [
    {
     "data": {
      "text/plain": [
       "'Weather: Snowy, Temp: -9°C'"
      ]
     },
     "execution_count": 46,
     "metadata": {},
     "output_type": "execute_result"
    }
   ],
   "source": [
    "import random\n",
    "def weather_simulator():\n",
    "    weather=['Sunny','Rainy','Cloudy','Windy','Snowy']\n",
    "    temperature=random.randint(-10,35)\n",
    "    condition=random.choice(weather)\n",
    "    return f\"Weather: {condition}, Temp: {temperature}°C\"\n",
    "weather_simulator()"
   ]
  },
  {
   "cell_type": "code",
   "execution_count": 54,
   "id": "753dce70",
   "metadata": {},
   "outputs": [
    {
     "name": "stdout",
     "output_type": "stream",
     "text": [
      "6\n",
      "5\n",
      "4\n",
      "3\n",
      "2\n",
      "1\n",
      "Time’s up!\n"
     ]
    }
   ],
   "source": [
    "import time\n",
    "def countdown(n):\n",
    "    while n > 0:\n",
    "        print(n)\n",
    "        time.sleep(0.5)\n",
    "        n -= 1\n",
    "    print(\"Time’s up!\")\n",
    "countdown(6)"
   ]
  },
  {
   "cell_type": "code",
   "execution_count": 61,
   "id": "5137c992",
   "metadata": {},
   "outputs": [
    {
     "name": "stdout",
     "output_type": "stream",
     "text": [
      "Balance: 12000\n",
      "Balance after deposit: 17000\n",
      "Balance after withdrawal: 15000\n"
     ]
    }
   ],
   "source": [
    "class  BankAccount:\n",
    "    def __init__ (self,acc_number,acc_balance,acc_holder):\n",
    "        self.acc_number=acc_number\n",
    "        self.acc_balance=acc_balance\n",
    "        self.acc_holder=acc_holder\n",
    "    def deposit(self,amount):\n",
    "        self.acc_balance+=amount\n",
    "\n",
    "        return self.acc_balance\n",
    "    def withdraw(self,amount):\n",
    "        if amount>self.acc_balance:\n",
    "            return \"Insufficient balance\"\n",
    "        else:\n",
    "            self.acc_balance-=amount\n",
    "            return self.acc_balance\n",
    "    def get_balance(self):\n",
    "        return self.acc_balance\n",
    "obj=BankAccount(\"6753624\",12000,\"Sreeja\")\n",
    "a=obj.get_balance()\n",
    "print(\"Balance:\",a)\n",
    "b=obj.deposit(5000)\n",
    "print(\"Balance after deposit:\",b)\n",
    "c=obj.withdraw(2000)\n",
    "print(\"Balance after withdrawal:\",c)\n"
   ]
  },
  {
   "cell_type": "code",
   "execution_count": 65,
   "id": "dca72953",
   "metadata": {},
   "outputs": [
    {
     "name": "stdout",
     "output_type": "stream",
     "text": [
      "Average marks of Sreeja : 80.5\n",
      "Highest marks of Sreeja : 98\n",
      "Lowest marks of Sreeja : 56\n",
      "Marks after adding 12 to the list  [78, 98, 90, 56, 12]\n"
     ]
    }
   ],
   "source": [
    "class student:\n",
    "    def __init__ (self,name,marks):\n",
    "        self.name=name\n",
    "        self.marks=marks\n",
    "    def get_average(self):\n",
    "        return sum(self.marks)/len(self.marks)\n",
    "    def get_highest(self):\n",
    "        return max(self.marks)\n",
    "    def get_lowest(self):\n",
    "        return min(self.marks)\n",
    "    def add_mark(self,mark):\n",
    "        self.marks.append(mark)\n",
    "        return self.marks\n",
    "    def display(self):\n",
    "        return marks\n",
    "name=input(\"Enter name:\")\n",
    "marks=list(map(int,input(\"Enter marks:\").split()))\n",
    "obj=student(name,marks)\n",
    "avg=obj.get_average()\n",
    "highest=obj.get_highest()\n",
    "lowest=obj.get_lowest()\n",
    "obj.add_mark(12)\n",
    "print(f\"Average marks of {name} : {avg}\")\n",
    "print(f\"Highest marks of {name} : {highest}\")\n",
    "print(f\"Lowest marks of {name} : {lowest}\")\n",
    "print(\"Marks after adding 12 to the list \",obj.display())\n",
    "\n",
    "\n",
    "\n"
   ]
  },
  {
   "cell_type": "code",
   "execution_count": 74,
   "id": "7ae0e193",
   "metadata": {},
   "outputs": [
    {
     "name": "stdout",
     "output_type": "stream",
     "text": [
      "Bonus : 2400.0\n"
     ]
    }
   ],
   "source": [
    "class Employee:\n",
    "    def __init__ (self,name,salary,role):\n",
    "        self.name=name\n",
    "        self.salary=salary\n",
    "        self.role=role.lower()\n",
    "    def bonus(self):\n",
    "        if self.role==\"manager\":\n",
    "            Bonus=(self.salary*20)/100\n",
    "            return Bonus\n",
    "        elif self.role==\"developer\":\n",
    "            Bonus=(self.salary*10)/100\n",
    "            return Bonus\n",
    "        elif self.role==\"intern\":\n",
    "            Bonus=(self.salary*5)/100\n",
    "            return Bonus\n",
    "obj=Employee(\"Sreeja\",12000,\"Manager\")\n",
    "b=obj.bonus()\n",
    "print(\"Bonus :\",b)\n"
   ]
  },
  {
   "cell_type": "code",
   "execution_count": 79,
   "id": "3031ce62",
   "metadata": {},
   "outputs": [
    {
     "name": "stdout",
     "output_type": "stream",
     "text": [
      "Area of circle  153.94\n",
      "Area of rectangle  56\n"
     ]
    }
   ],
   "source": [
    "import math\n",
    "class shape:\n",
    "    def __init__ (self,name):\n",
    "        self.name=name\n",
    "    def area(self):\n",
    "        raise NotImplementedError(\"Subclasses must override this method\")\n",
    "class circle(shape):\n",
    "    def __init__(self, radius):\n",
    "        super().__init__(\"Circle\")\n",
    "        self.radius = radius\n",
    "    def area(self):\n",
    "        return round(math.pi * self.radius ** 2, 2)\n",
    "class rectangle(shape):\n",
    "    def __init__ (self,length,width):\n",
    "        super().__init__(\"Rectangle\")\n",
    "        self.length=length\n",
    "        self.width=width\n",
    "    def area(self):\n",
    "        return round(self.length*self.width,2)\n",
    "c=circle(7)\n",
    "print(\"Area of circle \",c.area())\n",
    "r=rectangle(7,8)\n",
    "print(\"Area of rectangle \",r.area())     "
   ]
  },
  {
   "cell_type": "code",
   "execution_count": 81,
   "id": "d881bfe3",
   "metadata": {},
   "outputs": [
    {
     "name": "stdout",
     "output_type": "stream",
     "text": [
      "Added: Shirt - 500\n",
      "Added: Shoes - 1500\n",
      "Total = 2000\n",
      "Items in order:\n",
      "Shirt - 500\n",
      "Shoes - 1500\n",
      "Removed: Shirt\n",
      "Total = 1500\n"
     ]
    }
   ],
   "source": [
    "class Order:\n",
    "    def __init__(self):\n",
    "        self.items = {}\n",
    "    def add(self, item, price):\n",
    "        self.items[item] = price\n",
    "        print(f\"Added: {item} - {price}\")\n",
    "    def remove(self, item):\n",
    "        if item in self.items:\n",
    "            del self.items[item]\n",
    "            print(f\"Removed: {item}\")\n",
    "        else:\n",
    "            print(f\"{item} not found in order.\")\n",
    "    def calculate_total(self):\n",
    "        return f\"Total = {sum(self.items.values())}\"\n",
    "    def show_items(self):\n",
    "        if not self.items:\n",
    "            print(\"No items in the order.\")\n",
    "        else:\n",
    "            print(\"Items in order:\")\n",
    "            for item, price in self.items.items():\n",
    "                print(f\"{item} - {price}\")\n",
    "order = Order()\n",
    "order.add(\"Shirt\", 500)\n",
    "order.add(\"Shoes\", 1500)\n",
    "print(order.calculate_total())\n",
    "order.show_items()\n",
    "order.remove(\"Shirt\")\n",
    "print(order.calculate_total())"
   ]
  },
  {
   "cell_type": "code",
   "execution_count": null,
   "id": "b8b90cb4",
   "metadata": {},
   "outputs": [],
   "source": []
  }
 ],
 "metadata": {
  "kernelspec": {
   "display_name": "venv",
   "language": "python",
   "name": "python3"
  },
  "language_info": {
   "codemirror_mode": {
    "name": "ipython",
    "version": 3
   },
   "file_extension": ".py",
   "mimetype": "text/x-python",
   "name": "python",
   "nbconvert_exporter": "python",
   "pygments_lexer": "ipython3",
   "version": "3.11.0"
  }
 },
 "nbformat": 4,
 "nbformat_minor": 5
}
