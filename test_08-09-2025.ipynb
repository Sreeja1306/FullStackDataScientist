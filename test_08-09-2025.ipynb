{
 "cells": [
  {
   "cell_type": "code",
   "execution_count": 20,
   "id": "083b612c",
   "metadata": {},
   "outputs": [
    {
     "name": "stdout",
     "output_type": "stream",
     "text": [
      "[2, 3, 5, 7, 11, 13, 17, 19, 23, 29, 31, 37, 41, 43, 47, 53, 59, 61, 67]\n"
     ]
    }
   ],
   "source": [
    "import math\n",
    "def prime(n):\n",
    "    primes = []\n",
    "    for i in range(2, n + 1):\n",
    "        is_prime = True\n",
    "        for j in range(2, int(math.sqrt(i))+1):\n",
    "            if i % j == 0:\n",
    "                is_prime = False\n",
    "                break\n",
    "        if is_prime:\n",
    "            primes.append(i)\n",
    "    return primes\n",
    "print(prime(70))\n"
   ]
  },
  {
   "cell_type": "code",
   "execution_count": 23,
   "id": "a91437a6",
   "metadata": {},
   "outputs": [
    {
     "data": {
      "text/plain": [
       "True"
      ]
     },
     "execution_count": 23,
     "metadata": {},
     "output_type": "execute_result"
    }
   ],
   "source": [
    "def palindrome(s):\n",
    "    str=\"\"\n",
    "    for i in range(len(s)):\n",
    "        if s[i]!=\" \":\n",
    "            str+=s[i]\n",
    "    if str.lower()==str[::-1].lower():\n",
    "        return True\n",
    "    else:\n",
    "        return False\n",
    "palindrome(\"Never odd or even\")"
   ]
  },
  {
   "cell_type": "code",
   "execution_count": 83,
   "id": "9d148ef0",
   "metadata": {},
   "outputs": [
    {
     "data": {
      "text/plain": [
       "True"
      ]
     },
     "execution_count": 83,
     "metadata": {},
     "output_type": "execute_result"
    }
   ],
   "source": [
    "def anagram(str1,str2):\n",
    "    if sorted(str1)==sorted(str2):\n",
    "        return True\n",
    "    else:\n",
    "        return False\n",
    "anagram(\"listen\",\"silent\")"
   ]
  },
  {
   "cell_type": "code",
   "execution_count": 25,
   "id": "ec85886e",
   "metadata": {},
   "outputs": [
    {
     "data": {
      "text/plain": [
       "(3, 7)"
      ]
     },
     "execution_count": 25,
     "metadata": {},
     "output_type": "execute_result"
    }
   ],
   "source": [
    "def vowels_consonants(s):\n",
    "    vowels = \"aeiouAEIOU\"\n",
    "    v_count = 0\n",
    "    c_count = 0\n",
    "    for char in s:\n",
    "        if char.isalpha():\n",
    "            if char in vowels:\n",
    "                v_count += 1\n",
    "            else:\n",
    "                c_count += 1\n",
    "    return v_count, c_count\n",
    "vowels_consonants(\"Hello World\")"
   ]
  },
  {
   "cell_type": "code",
   "execution_count": 89,
   "id": "ad2c5efd",
   "metadata": {},
   "outputs": [
    {
     "data": {
      "text/plain": [
       "'amazing'"
      ]
     },
     "execution_count": 89,
     "metadata": {},
     "output_type": "execute_result"
    }
   ],
   "source": [
    "def longest_word(s):\n",
    "    words=s.split()\n",
    "    longest=max(words,key=len)\n",
    "    return longest\n",
    "longest_word(\"Python is amazing\")"
   ]
  },
  {
   "cell_type": "code",
   "execution_count": 91,
   "id": "ab9edca8",
   "metadata": {},
   "outputs": [
    {
     "data": {
      "text/plain": [
       "'rkS988'"
      ]
     },
     "execution_count": 91,
     "metadata": {},
     "output_type": "execute_result"
    }
   ],
   "source": [
    "import random\n",
    "def random_password(length):\n",
    "    characters = \"abcdefghijklmnopqrstuvwxyzABCDEFGHIJKLMNOPQRSTUVWXYZ0123456789!@#$%^&*()\"\n",
    "    password = ''.join(random.choice(characters) for _ in range(length))\n",
    "    return password\n",
    "random_password(6)"
   ]
  },
  {
   "cell_type": "code",
   "execution_count": 40,
   "id": "7380bf61",
   "metadata": {},
   "outputs": [
    {
     "data": {
      "text/plain": [
       "2.23606797749979"
      ]
     },
     "execution_count": 40,
     "metadata": {},
     "output_type": "execute_result"
    }
   ],
   "source": [
    "from math import sin,cos,sqrt,factorial\n",
    "def calculator(a,operation):\n",
    "    if operation==\"sin\":\n",
    "        return sin(a)\n",
    "    elif operation==\"cos\":\n",
    "        return cos(a)\n",
    "    elif operation==\"sqrt\":\n",
    "        return sqrt(a)\n",
    "    elif operation==\"factorial\":\n",
    "        return factorial(a)\n",
    "    else:\n",
    "        return \"Invalid operation\"\n",
    "calculator(5,\"sqrt\")\n"
   ]
  },
  {
   "cell_type": "code",
   "execution_count": 45,
   "id": "32457d9b",
   "metadata": {},
   "outputs": [
    {
     "data": {
      "text/plain": [
       "{'cat': 2, 'dog': 1}"
      ]
     },
     "execution_count": 45,
     "metadata": {},
     "output_type": "execute_result"
    }
   ],
   "source": [
    "from collections import Counter\n",
    "def word_frequency(s):\n",
    "    words = s.split()\n",
    "    frequency = Counter(words)\n",
    "    return dict(frequency)\n",
    "word_frequency(\"cat dog cat\")"
   ]
  },
  {
   "cell_type": "code",
   "execution_count": 46,
   "id": "9b412a88",
   "metadata": {},
   "outputs": [
    {
     "data": {
      "text/plain": [
       "'Weather: Snowy, Temp: -9°C'"
      ]
     },
     "execution_count": 46,
     "metadata": {},
     "output_type": "execute_result"
    }
   ],
   "source": [
    "import random\n",
    "def weather_simulator():\n",
    "    weather=['Sunny','Rainy','Cloudy','Windy','Snowy']\n",
    "    temperature=random.randint(-10,35)\n",
    "    condition=random.choice(weather)\n",
    "    return f\"Weather: {condition}, Temp: {temperature}°C\"\n",
    "weather_simulator()"
   ]
  },
  {
   "cell_type": "code",
   "execution_count": 54,
   "id": "753dce70",
   "metadata": {},
   "outputs": [
    {
     "name": "stdout",
     "output_type": "stream",
     "text": [
      "6\n",
      "5\n",
      "4\n",
      "3\n",
      "2\n",
      "1\n",
      "Time’s up!\n"
     ]
    }
   ],
   "source": [
    "import time\n",
    "def countdown(n):\n",
    "    while n > 0:\n",
    "        print(n)\n",
    "        time.sleep(0.5)\n",
    "        n -= 1\n",
    "    print(\"Time’s up!\")\n",
    "countdown(6)"
   ]
  },
  {
   "cell_type": "code",
   "execution_count": 61,
   "id": "5137c992",
   "metadata": {},
   "outputs": [
    {
     "name": "stdout",
     "output_type": "stream",
     "text": [
      "Balance: 12000\n",
      "Balance after deposit: 17000\n",
      "Balance after withdrawal: 15000\n"
     ]
    }
   ],
   "source": [
    "class  BankAccount:\n",
    "    def __init__ (self,acc_number,acc_balance,acc_holder):\n",
    "        self.acc_number=acc_number\n",
    "        self.acc_balance=acc_balance\n",
    "        self.acc_holder=acc_holder\n",
    "    def deposit(self,amount):\n",
    "        self.acc_balance+=amount\n",
    "\n",
    "        return self.acc_balance\n",
    "    def withdraw(self,amount):\n",
    "        if amount>self.acc_balance:\n",
    "            return \"Insufficient balance\"\n",
    "        else:\n",
    "            self.acc_balance-=amount\n",
    "            return self.acc_balance\n",
    "    def get_balance(self):\n",
    "        return self.acc_balance\n",
    "obj=BankAccount(\"6753624\",12000,\"Sreeja\")\n",
    "a=obj.get_balance()\n",
    "print(\"Balance:\",a)\n",
    "b=obj.deposit(5000)\n",
    "print(\"Balance after deposit:\",b)\n",
    "c=obj.withdraw(2000)\n",
    "print(\"Balance after withdrawal:\",c)\n"
   ]
  },
  {
   "cell_type": "code",
   "execution_count": 65,
   "id": "dca72953",
   "metadata": {},
   "outputs": [
    {
     "name": "stdout",
     "output_type": "stream",
     "text": [
      "Average marks of Sreeja : 80.5\n",
      "Highest marks of Sreeja : 98\n",
      "Lowest marks of Sreeja : 56\n",
      "Marks after adding 12 to the list  [78, 98, 90, 56, 12]\n"
     ]
    }
   ],
   "source": [
    "class student:\n",
    "    def __init__ (self,name,marks):\n",
    "        self.name=name\n",
    "        self.marks=marks\n",
    "    def get_average(self):\n",
    "        return sum(self.marks)/len(self.marks)\n",
    "    def get_highest(self):\n",
    "        return max(self.marks)\n",
    "    def get_lowest(self):\n",
    "        return min(self.marks)\n",
    "    def add_mark(self,mark):\n",
    "        self.marks.append(mark)\n",
    "        return self.marks\n",
    "    def display(self):\n",
    "        return marks\n",
    "name=input(\"Enter name:\")\n",
    "marks=list(map(int,input(\"Enter marks:\").split()))\n",
    "obj=student(name,marks)\n",
    "avg=obj.get_average()\n",
    "highest=obj.get_highest()\n",
    "lowest=obj.get_lowest()\n",
    "obj.add_mark(12)\n",
    "print(f\"Average marks of {name} : {avg}\")\n",
    "print(f\"Highest marks of {name} : {highest}\")\n",
    "print(f\"Lowest marks of {name} : {lowest}\")\n",
    "print(\"Marks after adding 12 to the list \",obj.display())\n",
    "\n",
    "\n",
    "\n"
   ]
  },
  {
   "cell_type": "code",
   "execution_count": 74,
   "id": "7ae0e193",
   "metadata": {},
   "outputs": [
    {
     "name": "stdout",
     "output_type": "stream",
     "text": [
      "Bonus : 2400.0\n"
     ]
    }
   ],
   "source": [
    "class Employee:\n",
    "    def __init__ (self,name,salary,role):\n",
    "        self.name=name\n",
    "        self.salary=salary\n",
    "        self.role=role.lower()\n",
    "    def bonus(self):\n",
    "        if self.role==\"manager\":\n",
    "            Bonus=(self.salary*20)/100\n",
    "            return Bonus\n",
    "        elif self.role==\"developer\":\n",
    "            Bonus=(self.salary*10)/100\n",
    "            return Bonus\n",
    "        elif self.role==\"intern\":\n",
    "            Bonus=(self.salary*5)/100\n",
    "            return Bonus\n",
    "obj=Employee(\"Sreeja\",12000,\"Manager\")\n",
    "b=obj.bonus()\n",
    "print(\"Bonus :\",b)\n"
   ]
  },
  {
   "cell_type": "code",
   "execution_count": 79,
   "id": "3031ce62",
   "metadata": {},
   "outputs": [
    {
     "name": "stdout",
     "output_type": "stream",
     "text": [
      "Area of circle  153.94\n",
      "Area of rectangle  56\n"
     ]
    }
   ],
   "source": [
    "import math\n",
    "class shape:\n",
    "    def __init__ (self,name):\n",
    "        self.name=name\n",
    "    def area(self):\n",
    "        raise NotImplementedError(\"Subclasses must override this method\")\n",
    "class circle(shape):\n",
    "    def __init__(self, radius):\n",
    "        super().__init__(\"Circle\")\n",
    "        self.radius = radius\n",
    "    def area(self):\n",
    "        return round(math.pi * self.radius ** 2, 2)\n",
    "class rectangle(shape):\n",
    "    def __init__ (self,length,width):\n",
    "        super().__init__(\"Rectangle\")\n",
    "        self.length=length\n",
    "        self.width=width\n",
    "    def area(self):\n",
    "        return round(self.length*self.width,2)\n",
    "c=circle(7)\n",
    "print(\"Area of circle \",c.area())\n",
    "r=rectangle(7,8)\n",
    "print(\"Area of rectangle \",r.area())     "
   ]
  },
  {
   "cell_type": "code",
   "execution_count": 81,
   "id": "d881bfe3",
   "metadata": {},
   "outputs": [
    {
     "name": "stdout",
     "output_type": "stream",
     "text": [
      "Added: Shirt - 500\n",
      "Added: Shoes - 1500\n",
      "Total = 2000\n",
      "Items in order:\n",
      "Shirt - 500\n",
      "Shoes - 1500\n",
      "Removed: Shirt\n",
      "Total = 1500\n"
     ]
    }
   ],
   "source": [
    "class Order:\n",
    "    def __init__(self):\n",
    "        self.items = {}\n",
    "    def add(self, item, price):\n",
    "        self.items[item] = price\n",
    "        print(f\"Added: {item} - {price}\")\n",
    "    def remove(self, item):\n",
    "        if item in self.items:\n",
    "            del self.items[item]\n",
    "            print(f\"Removed: {item}\")\n",
    "        else:\n",
    "            print(f\"{item} not found in order.\")\n",
    "    def calculate_total(self):\n",
    "        return f\"Total = {sum(self.items.values())}\"\n",
    "    def show_items(self):\n",
    "        if not self.items:\n",
    "            print(\"No items in the order.\")\n",
    "        else:\n",
    "            print(\"Items in order:\")\n",
    "            for item, price in self.items.items():\n",
    "                print(f\"{item} - {price}\")\n",
    "order = Order()\n",
    "order.add(\"Shirt\", 500)\n",
    "order.add(\"Shoes\", 1500)\n",
    "print(order.calculate_total())\n",
    "order.show_items()\n",
    "order.remove(\"Shirt\")\n",
    "print(order.calculate_total())"
   ]
  },
  {
   "cell_type": "code",
   "execution_count": 1,
   "id": "b8b90cb4",
   "metadata": {},
   "outputs": [
    {
     "data": {
      "text/plain": [
       "[0, 1, 1, 2, 3, 5, 8]"
      ]
     },
     "execution_count": 1,
     "metadata": {},
     "output_type": "execute_result"
    }
   ],
   "source": [
    "def fibanacci(n):\n",
    "    fib_sequence=[0,1]\n",
    "    for i in range(2,n):\n",
    "        next_fib=fib_sequence[i-1]+fib_sequence[i-2]\n",
    "        fib_sequence.append(next_fib)\n",
    "    return fib_sequence\n",
    "fibanacci(7)"
   ]
  },
  {
   "cell_type": "code",
   "execution_count": 2,
   "id": "db7a180a",
   "metadata": {},
   "outputs": [
    {
     "data": {
      "text/plain": [
       "120"
      ]
     },
     "execution_count": 2,
     "metadata": {},
     "output_type": "execute_result"
    }
   ],
   "source": [
    "def factorial(n):\n",
    "    if n==0 or n==1:\n",
    "        return 1\n",
    "    else:\n",
    "        return n*factorial(n-1)\n",
    "factorial(5)\n"
   ]
  },
  {
   "cell_type": "code",
   "execution_count": 4,
   "id": "5b52b985",
   "metadata": {},
   "outputs": [
    {
     "data": {
      "text/plain": [
       "{'apple': 2, 'banana': 2, 'orange': 1}"
      ]
     },
     "execution_count": 4,
     "metadata": {},
     "output_type": "execute_result"
    }
   ],
   "source": [
    "from collections import Counter\n",
    "def word_counter(s):\n",
    "    words=s.split()\n",
    "    word_frequency=Counter(words)\n",
    "    return dict(word_frequency)\n",
    "word_counter(\"apple banana apple orange banana\")\n",
    "    "
   ]
  },
  {
   "cell_type": "code",
   "execution_count": 5,
   "id": "388618b4",
   "metadata": {},
   "outputs": [
    {
     "data": {
      "text/plain": [
       "'C'"
      ]
     },
     "execution_count": 5,
     "metadata": {},
     "output_type": "execute_result"
    }
   ],
   "source": [
    "def grade_calc(marks):\n",
    "    if marks>90:\n",
    "        Grade='A'\n",
    "    elif marks<=90 and marks>80:\n",
    "        Grade='B'\n",
    "    elif marks<=80 and marks>70:\n",
    "        Grade='C'\n",
    "    elif marks<=70 and marks>60:\n",
    "        Grade='D'\n",
    "    elif marks<=60:\n",
    "        Grade='F'\n",
    "    return Grade\n",
    "grade_calc(79)"
   ]
  },
  {
   "cell_type": "code",
   "execution_count": 14,
   "id": "5bf77dce",
   "metadata": {},
   "outputs": [
    {
     "name": "stdout",
     "output_type": "stream",
     "text": [
      "[20, 10, 8, 5]\n"
     ]
    },
    {
     "data": {
      "text/plain": [
       "10"
      ]
     },
     "execution_count": 14,
     "metadata": {},
     "output_type": "execute_result"
    }
   ],
   "source": [
    "def second_largest(L):\n",
    "    L1=sorted(L,reverse=True)\n",
    "    print(L1)\n",
    "    return L1[1]\n",
    "second_largest([10, 5, 20, 8])\n"
   ]
  },
  {
   "cell_type": "code",
   "execution_count": 21,
   "id": "0c1f0c15",
   "metadata": {},
   "outputs": [
    {
     "name": "stdout",
     "output_type": "stream",
     "text": [
      "Text Files : 2\n",
      "Python Files : 1\n"
     ]
    }
   ],
   "source": [
    "import os\n",
    "def file_counter(directory=\".\"):\n",
    "    files = os.listdir(directory)\n",
    "    txt_count=0\n",
    "    py_count=0\n",
    "    for file in files:\n",
    "        if file.endswith(\".txt\"):\n",
    "            txt_count+=1\n",
    "        elif file.endswith(\".py\"):\n",
    "            py_count+=1\n",
    "    return txt_count,py_count\n",
    "txt,py=file_counter()\n",
    "print(\"Text Files :\",txt)\n",
    "print(\"Python Files :\",py)"
   ]
  },
  {
   "cell_type": "code",
   "execution_count": 25,
   "id": "a36075a1",
   "metadata": {},
   "outputs": [
    {
     "name": "stdout",
     "output_type": "stream",
     "text": [
      "Mean= 87.86\n",
      "Median = 90\n",
      "Variance = 73.81\n"
     ]
    }
   ],
   "source": [
    "from statistics import mean,median,variance\n",
    "def stats(Scores):\n",
    "    return round(mean(Scores),2),median(Scores),round(variance(Scores),2)\n",
    "mean,median,variance=stats([75, 80, 90, 100, 85, 90, 95])\n",
    "print(\"Mean=\",mean)\n",
    "print(\"Median =\",median)\n",
    "print(\"Variance =\",variance)\n"
   ]
  },
  {
   "cell_type": "code",
   "execution_count": 28,
   "id": "e2a0b339",
   "metadata": {},
   "outputs": [
    {
     "data": {
      "text/plain": [
       "'Roots are 2.0 and 1.0'"
      ]
     },
     "execution_count": 28,
     "metadata": {},
     "output_type": "execute_result"
    }
   ],
   "source": [
    "from math import pow,sqrt\n",
    "def quadratic_solver(a,b,c):\n",
    "    d=pow(b,2)-4*a*c\n",
    "    if d<0:\n",
    "        return \"No real roots\"\n",
    "    elif d==0:\n",
    "        root=-b/(2*a)\n",
    "    else:\n",
    "        root1=(-b+sqrt(d))/(2*a)\n",
    "        root2=(-b-sqrt(d))/(2*a)\n",
    "        return f\"Roots are {root1} and {root2}\"\n",
    "quadratic_solver(1,-3,2)"
   ]
  },
  {
   "cell_type": "code",
   "execution_count": 35,
   "id": "b777e553",
   "metadata": {},
   "outputs": [
    {
     "name": "stdout",
     "output_type": "stream",
     "text": [
      "Your choice : rock\n",
      "Computer chose: scissors\n",
      "You win!\n"
     ]
    }
   ],
   "source": [
    "import random\n",
    "def rock_paper_scissors(user):\n",
    "    choices = ['rock', 'paper', 'scissors']\n",
    "    computer = random.choice(choices)\n",
    "    print(\"Your choice :\",user.lower())\n",
    "    print(\"Computer chose:\", computer)\n",
    "    user = user.lower()\n",
    "    if user == computer:\n",
    "        return \"Draw\"\n",
    "    elif user == 'rock' and computer == 'paper':\n",
    "        return \"You lost!\"\n",
    "    elif user == 'rock' and computer == 'scissors':\n",
    "        return \"You win!\"\n",
    "    elif user == 'paper' and computer == 'scissors':\n",
    "        return \"You lost!\"\n",
    "    elif user == 'paper' and computer == 'rock':\n",
    "        return \"You win!\"\n",
    "    elif user == 'scissors' and computer == 'rock':\n",
    "        return \"You lost!\"\n",
    "    elif user == 'scissors' and computer == 'paper':\n",
    "        return \"You win!\"\n",
    "    else:\n",
    "        return \"Invalid choice!\"\n",
    "user = input(\"Enter your choice (Rock, Paper, Scissors): \")\n",
    "print(rock_paper_scissors(user))\n"
   ]
  },
  {
   "cell_type": "code",
   "execution_count": 43,
   "id": "a993a820",
   "metadata": {},
   "outputs": [
    {
     "name": "stdout",
     "output_type": "stream",
     "text": [
      "You borrowed 'Data Science'.\n",
      "You returned 'Python 101'.\n"
     ]
    },
    {
     "data": {
      "text/plain": [
       "{'Python 101': 4, 'Data Science': 1}"
      ]
     },
     "execution_count": 43,
     "metadata": {},
     "output_type": "execute_result"
    }
   ],
   "source": [
    "class Library:\n",
    "    def __init__(self, books):\n",
    "        self.books = books  \n",
    "    def borrow(self, book_name):\n",
    "        if book_name not in self.books:\n",
    "            return \"This book is not in the library.\"\n",
    "        elif self.books[book_name] <= 0:\n",
    "            return \"No copies of this book are available.\"\n",
    "        else:\n",
    "            self.books[book_name] -= 1\n",
    "            return f\"You borrowed '{book_name}'.\"\n",
    "    def return_book(self, book_name):\n",
    "        if book_name in self.books:\n",
    "            self.books[book_name] += 1\n",
    "        else:\n",
    "            self.books[book_name] = 1\n",
    "        return f\"You returned '{book_name}'.\"\n",
    "    def show_books(self):\n",
    "        return self.books\n",
    "lib=Library({\"Python 101\": 3, \"Data Science\": 2})\n",
    "print(lib.borrow(\"Data Science\"))\n",
    "print(lib.return_book(\"Python 101\"))\n",
    "lib.show_books()"
   ]
  },
  {
   "cell_type": "code",
   "execution_count": 46,
   "id": "85a030e3",
   "metadata": {},
   "outputs": [
    {
     "name": "stdout",
     "output_type": "stream",
     "text": [
      "Access Granted\n",
      "Deposited 200\n",
      "withdrew 100\n",
      "600\n"
     ]
    }
   ],
   "source": [
    "class ATM:\n",
    "    def __init__ (self,pin,balance):\n",
    "        self.pin=pin\n",
    "        self.balance=balance\n",
    "    def login(self,pin):\n",
    "        if self.pin==1234:\n",
    "            return 'Access Granted'\n",
    "        else:\n",
    "            return 'Access Denied'\n",
    "    def check_balance(self):\n",
    "        return self.balance\n",
    "    def deposit(self,amount):\n",
    "        self.balance+=amount\n",
    "        return f\"Deposited {amount}\"\n",
    "    def withdraw(self,amount):\n",
    "        if amount<=self.balance:\n",
    "            self.balance-=amount\n",
    "            return f'withdrew {amount}'\n",
    "        else:\n",
    "            return f\"Insufficient balance\"\n",
    "atm = ATM(1234, 500)\n",
    "print(atm.login(1234))\n",
    "print(atm.deposit(200))\n",
    "print(atm.withdraw(100)) \n",
    "print(atm.check_balance())\n",
    "\n"
   ]
  },
  {
   "cell_type": "code",
   "execution_count": 47,
   "id": "c34cf0ea",
   "metadata": {},
   "outputs": [
    {
     "name": "stdout",
     "output_type": "stream",
     "text": [
      "Dr. Smith is teaching Python\n",
      "Alice enrolled in Python\n",
      "Dr. Smith assigned: Project 1\n",
      "Alice submitted: Project 1\n"
     ]
    }
   ],
   "source": [
    "class Professor:\n",
    "    def __init__(self, name, subject):\n",
    "        self.name = name\n",
    "        self.subject = subject\n",
    "    def teach(self, course):\n",
    "        return f\"{self.name} is teaching {course}\"\n",
    "    def give_assignment(self, task):\n",
    "        return f\"{self.name} assigned: {task}\"\n",
    "class Student:\n",
    "    def __init__(self, name):\n",
    "        self.name = name\n",
    "        self.courses = []\n",
    "        self.assignments = []\n",
    "    def enroll(self, course):\n",
    "        self.courses.append(course)\n",
    "        return f\"{self.name} enrolled in {course}\"\n",
    "    def submit_assignment(self, task):\n",
    "        self.assignments.append(task)\n",
    "        return f\"{self.name} submitted: {task}\"\n",
    "prof = Professor(\"Dr. Smith\", \"Computer Science\")\n",
    "stud = Student(\"Alice\")\n",
    "print(prof.teach(\"Python\"))\n",
    "print(stud.enroll(\"Python\"))\n",
    "print(prof.give_assignment(\"Project 1\"))\n",
    "print(stud.submit_assignment(\"Project 1\"))\n",
    "\n"
   ]
  },
  {
   "cell_type": "code",
   "execution_count": 53,
   "id": "81722776",
   "metadata": {},
   "outputs": [
    {
     "name": "stdout",
     "output_type": "stream",
     "text": [
      "Booked 2 tickets for Avatar\n",
      "Cancelled 1 tickets for Avatar\n"
     ]
    },
    {
     "data": {
      "text/plain": [
       "{'Avatar': 9, 'Batman': 5}"
      ]
     },
     "execution_count": 53,
     "metadata": {},
     "output_type": "execute_result"
    }
   ],
   "source": [
    "class Cinema:\n",
    "    def __init__(self, movies):\n",
    "        self.movies = movies\n",
    "    def book(self, movie, seats):\n",
    "        if movie not in self.movies:\n",
    "            return f\"{movie} is not available\"\n",
    "        if self.movies[movie] < seats:\n",
    "            return f\"No seats are available for {movie}\"\n",
    "        else:\n",
    "            self.movies[movie] -= seats\n",
    "            return f\"Booked {seats} tickets for {movie}\"\n",
    "    def cancel(self, movie, seats):\n",
    "        if movie not in self.movies:\n",
    "            return f\"{movie} is not available\"\n",
    "        self.movies[movie] += seats\n",
    "        return f\"Cancelled {seats} tickets for {movie}\"\n",
    "    def show_movies(self):\n",
    "        return self.movies\n",
    "cinema = Cinema({\"Avatar\": 10, \"Batman\": 5})\n",
    "print(cinema.book(\"Avatar\", 2))\n",
    "print(cinema.cancel(\"Avatar\", 1))\n",
    "cinema.show_movies()\n"
   ]
  },
  {
   "cell_type": "code",
   "execution_count": 54,
   "id": "f0732a01",
   "metadata": {},
   "outputs": [
    {
     "name": "stdout",
     "output_type": "stream",
     "text": [
      "Burger added\n",
      "Pizza added\n",
      "Pizza price updated to 250\n",
      "Burger removed\n",
      "Menu: {'Pizza': 250}\n"
     ]
    }
   ],
   "source": [
    "class Menu:\n",
    "    def __init__(self):\n",
    "        self.items = {}\n",
    "    def add_item(self, name, price):\n",
    "        self.items[name] = price\n",
    "        return f\"{name} added\"\n",
    "    def remove_item(self, name):\n",
    "        if name in self.items:\n",
    "            del self.items[name]\n",
    "            return f\"{name} removed\"\n",
    "        else:\n",
    "            return f\"{name} not found\"\n",
    "    def update_price(self, name, new_price):\n",
    "        if name in self.items:\n",
    "            self.items[name] = new_price\n",
    "            return f\"{name} price updated to {new_price}\"\n",
    "        else:\n",
    "            return f\"{name} not found\"\n",
    "    def show_menu(self):\n",
    "        print(f\"Menu: {self.items}\")\n",
    "menu = Menu() \n",
    "print(menu.add_item(\"Burger\", 100))\n",
    "print(menu.add_item(\"Pizza\", 200))\n",
    "print(menu.update_price(\"Pizza\", 250))\n",
    "print(menu.remove_item(\"Burger\"))\n",
    "menu.show_menu()"
   ]
  },
  {
   "cell_type": "code",
   "execution_count": null,
   "id": "b5a292c1",
   "metadata": {},
   "outputs": [],
   "source": []
  }
 ],
 "metadata": {
  "kernelspec": {
   "display_name": "venv",
   "language": "python",
   "name": "python3"
  },
  "language_info": {
   "codemirror_mode": {
    "name": "ipython",
    "version": 3
   },
   "file_extension": ".py",
   "mimetype": "text/x-python",
   "name": "python",
   "nbconvert_exporter": "python",
   "pygments_lexer": "ipython3",
   "version": "3.11.0"
  }
 },
 "nbformat": 4,
 "nbformat_minor": 5
}
