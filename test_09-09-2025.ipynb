{
 "cells": [
  {
   "cell_type": "code",
   "execution_count": 3,
   "id": "a893e817",
   "metadata": {},
   "outputs": [
    {
     "name": "stdout",
     "output_type": "stream",
     "text": [
      "1\n"
     ]
    }
   ],
   "source": [
    "def count_words(f):\n",
    "    count=0\n",
    "    for line in f:\n",
    "        words=line.split()\n",
    "        count+=len(words)\n",
    "    return count\n",
    "count=count_words(open('requirements.txt'))\n",
    "print(count)\n"
   ]
  },
  {
   "cell_type": "code",
   "execution_count": 9,
   "id": "29e9bd67",
   "metadata": {},
   "outputs": [
    {
     "name": "stdout",
     "output_type": "stream",
     "text": [
      "True\n"
     ]
    }
   ],
   "source": [
    "def password_checker(password):\n",
    "    if len(password) >= 8:\n",
    "        if any(char.isdigit() for char in password):\n",
    "            if any(char.isupper() for char in password):\n",
    "                if any(char.islower() for char in password):\n",
    "                    if any(char in '@#$%&*!' for char in password):\n",
    "                        return True\n",
    "    return False\n",
    "print(password_checker('#Strtasdt122'))"
   ]
  },
  {
   "cell_type": "code",
   "execution_count": 11,
   "id": "b84b34ae",
   "metadata": {},
   "outputs": [
    {
     "name": "stdout",
     "output_type": "stream",
     "text": [
      "Error: division by zero\n"
     ]
    }
   ],
   "source": [
    "def calculator(a,b,operation):\n",
    "    if operation=='+':\n",
    "        return a+b\n",
    "    elif operation=='-':\n",
    "        return a-b\n",
    "    elif operation=='*':\n",
    "        return a*b\n",
    "    elif operation=='/':\n",
    "        try:\n",
    "            return a/b\n",
    "        except Exception as e:\n",
    "            return f\"Error: {e}\"\n",
    "    else:\n",
    "        return \"Error: Invalid operation\"\n",
    "print(calculator(5,0,'/'))\n"
   ]
  },
  {
   "cell_type": "code",
   "execution_count": 14,
   "id": "04ab92b3",
   "metadata": {},
   "outputs": [
    {
     "name": "stdout",
     "output_type": "stream",
     "text": [
      "[1, 2, 3]\n"
     ]
    }
   ],
   "source": [
    "def duplicates(lst):\n",
    "    duplicateslst=[]\n",
    "    for i in lst:\n",
    "        if lst.count(i)>1 and i not in duplicateslst:\n",
    "            duplicateslst.append(i)\n",
    "    return duplicateslst\n",
    "print(duplicates([1,2,3,4,5,1,2,3,6,7,8,9,10]))\n",
    "        "
   ]
  },
  {
   "cell_type": "code",
   "execution_count": 80,
   "id": "97aae809",
   "metadata": {},
   "outputs": [
    {
     "name": "stdout",
     "output_type": "stream",
     "text": [
      "95.0\n"
     ]
    }
   ],
   "source": [
    "def celsius_to_farenheit(C):\n",
    "    F=(9/5*C)+32\n",
    "    return F\n",
    "print(celsius_to_farenheit(35))"
   ]
  },
  {
   "cell_type": "code",
   "execution_count": 20,
   "id": "8e12d093",
   "metadata": {},
   "outputs": [
    {
     "name": "stdout",
     "output_type": "stream",
     "text": [
      "99\n"
     ]
    }
   ],
   "source": [
    "def largest(lst):\n",
    "    return max(lst)\n",
    "print(largest([98,75,99,76,12,34]))"
   ]
  },
  {
   "cell_type": "code",
   "execution_count": 21,
   "id": "6a650541",
   "metadata": {},
   "outputs": [
    {
     "name": "stdout",
     "output_type": "stream",
     "text": [
      "100.0\n"
     ]
    }
   ],
   "source": [
    "def si(p,r,t):\n",
    "    return (p*t*r)/100\n",
    "print(si(1000,5,2))"
   ]
  },
  {
   "cell_type": "code",
   "execution_count": 23,
   "id": "2202b5c9",
   "metadata": {},
   "outputs": [
    {
     "name": "stdout",
     "output_type": "stream",
     "text": [
      "['Srivalli', 'Sush']\n"
     ]
    }
   ],
   "source": [
    "def defaulter(di):\n",
    "    defaulters=[]\n",
    "    for i in di:\n",
    "        if di[i]<75:\n",
    "            defaulters.append(i)\n",
    "    return defaulters\n",
    "print(defaulter({'Sreeja':78,'Srivalli':23,'Sush':67}))"
   ]
  },
  {
   "cell_type": "code",
   "execution_count": 28,
   "id": "ba5c196e",
   "metadata": {},
   "outputs": [
    {
     "name": "stdout",
     "output_type": "stream",
     "text": [
      "10\n"
     ]
    }
   ],
   "source": [
    "def sum_digit(n):\n",
    "    sum1=0\n",
    "    for i in str(n):\n",
    "        sum1+=int(i)\n",
    "    return sum1\n",
    "print(sum_digit(1234))"
   ]
  },
  {
   "cell_type": "code",
   "execution_count": 46,
   "id": "0230b468",
   "metadata": {},
   "outputs": [
    {
     "name": "stdout",
     "output_type": "stream",
     "text": [
      "False\n"
     ]
    }
   ],
   "source": [
    "from math import sqrt\n",
    "def is_prime(n):\n",
    "    if n<=1:\n",
    "        return False\n",
    "    for i in range(2,int(sqrt(n))+1):\n",
    "        if n%i==0:\n",
    "            return False\n",
    "    return True\n",
    "print(is_prime(39))"
   ]
  },
  {
   "cell_type": "code",
   "execution_count": 47,
   "id": "5974474f",
   "metadata": {},
   "outputs": [
    {
     "name": "stdout",
     "output_type": "stream",
     "text": [
      "Smallest: 12\n",
      "Largest: 89\n"
     ]
    }
   ],
   "source": [
    "def Smallest_largest(lst):\n",
    "    return (min(lst),max(lst))\n",
    "a,b=Smallest_largest([23,45,67,89,12,34])\n",
    "print(\"Smallest:\",a)\n",
    "print(\"Largest:\",b)"
   ]
  },
  {
   "cell_type": "code",
   "execution_count": 48,
   "id": "87d2247c",
   "metadata": {},
   "outputs": [
    {
     "name": "stdout",
     "output_type": "stream",
     "text": [
      "550\n"
     ]
    }
   ],
   "source": [
    "def total_bill(di):\n",
    "    total=0\n",
    "    for i in di:\n",
    "        total+=di[i]\n",
    "    return total\n",
    "print(total_bill({'burger':120,'pizza':250,'pasta':180}))"
   ]
  },
  {
   "cell_type": "code",
   "execution_count": 49,
   "id": "271cdfb4",
   "metadata": {},
   "outputs": [
    {
     "name": "stdout",
     "output_type": "stream",
     "text": [
      "67\n"
     ]
    }
   ],
   "source": [
    "def largest(a,b,c):\n",
    "    if a>=b and a>=c:\n",
    "        return a\n",
    "    elif b>=a and b>=c:\n",
    "        return b\n",
    "    else:\n",
    "        return c\n",
    "print(largest(23,45,67))"
   ]
  },
  {
   "cell_type": "code",
   "execution_count": 50,
   "id": "e23368b2",
   "metadata": {},
   "outputs": [
    {
     "name": "stdout",
     "output_type": "stream",
     "text": [
      "{'H': 1, 'e': 1, 'l': 3, 'o': 2, ' ': 1, 'w': 1, 'r': 1, 'd': 1, '!': 3}\n"
     ]
    }
   ],
   "source": [
    "def characters_count(s):\n",
    "    count={}\n",
    "    for char in s:\n",
    "        if char in count:\n",
    "            count[char]+=1\n",
    "        else:\n",
    "            count[char]=1\n",
    "    return count\n",
    "print(characters_count(\"Hello world!!!\"))"
   ]
  },
  {
   "cell_type": "code",
   "execution_count": 51,
   "id": "26d27e7f",
   "metadata": {},
   "outputs": [
    {
     "name": "stdout",
     "output_type": "stream",
     "text": [
      "1700\n"
     ]
    }
   ],
   "source": [
    "def electricity_bill(units):\n",
    "    if units<=100:\n",
    "        bill=units*5\n",
    "    elif units<=200:\n",
    "        bill=100*5+(units-100)*7\n",
    "    else:\n",
    "        bill=100*5+100*7+(units-200)*10\n",
    "    return bill\n",
    "print(electricity_bill(250))"
   ]
  },
  {
   "cell_type": "code",
   "execution_count": 56,
   "id": "c13c60ee",
   "metadata": {},
   "outputs": [
    {
     "name": "stdout",
     "output_type": "stream",
     "text": [
      "['sreeja', 'srivalli', 'sushmitha', 'yash']\n"
     ]
    }
   ],
   "source": [
    "def sorted_list(l):\n",
    "    return sorted(lst.lower() for lst in l)\n",
    "print(sorted_list(['yash','SRIvalli','Sreeja','Sushmitha']))"
   ]
  },
  {
   "cell_type": "code",
   "execution_count": 59,
   "id": "f32bb808",
   "metadata": {},
   "outputs": [
    {
     "name": "stdout",
     "output_type": "stream",
     "text": [
      "positive : 5, negative : 1, zero : 2\n"
     ]
    }
   ],
   "source": [
    "def count_numbers(lst):\n",
    "    p=0\n",
    "    n=0\n",
    "    z=0\n",
    "    for i in lst:\n",
    "        if i>0:\n",
    "            p+=1\n",
    "        elif i<0:\n",
    "            n+=1\n",
    "        else:\n",
    "            z+=1\n",
    "    return (p,n,z)\n",
    "positive,negative,zero=count_numbers([23,2,0,67,-89,12,0,34])\n",
    "print(f\"positive : {positive}, negative : {negative}, zero : {zero}\")"
   ]
  },
  {
   "cell_type": "code",
   "execution_count": 63,
   "id": "42e64613",
   "metadata": {},
   "outputs": [
    {
     "name": "stdout",
     "output_type": "stream",
     "text": [
      "Incorrect pin\n",
      "Incorrect pin\n",
      "Access granted\n"
     ]
    }
   ],
   "source": [
    "def enter_correct_pin():\n",
    "    for i in range(3):\n",
    "        pin=int(input(\"Enter your pin:\"))\n",
    "        if pin==1234:\n",
    "            print(\"Access granted\")\n",
    "            return\n",
    "        else:\n",
    "            print(\"Incorrect pin\")\n",
    "    print(\"Account locked\")\n",
    "enter_correct_pin()"
   ]
  },
  {
   "cell_type": "code",
   "execution_count": 70,
   "id": "6ce6fbfd",
   "metadata": {},
   "outputs": [
    {
     "name": "stdout",
     "output_type": "stream",
     "text": [
      "Error: division by zero\n"
     ]
    }
   ],
   "source": [
    "def division(a,b):\n",
    "    try:\n",
    "            return a/b\n",
    "    except Exception as e:\n",
    "        return f\"Error: {e}\"\n",
    "print(division(5,0))"
   ]
  },
  {
   "cell_type": "code",
   "execution_count": 71,
   "id": "3a954ee7",
   "metadata": {},
   "outputs": [
    {
     "name": "stdout",
     "output_type": "stream",
     "text": [
      "Result: 1.0\n"
     ]
    }
   ],
   "source": [
    "def divide_numbers():\n",
    "    try:\n",
    "        num1 = float(input(\"Enter first number: \"))\n",
    "        num2 = float(input(\"Enter second number: \"))\n",
    "        result = num1 / num2\n",
    "        print(\"Result:\", result)\n",
    "    except ZeroDivisionError:\n",
    "        print(\"Error: Division by zero is not allowed!\")\n",
    "    except ValueError:\n",
    "        print(\"Error: Please enter valid numbers.\")\n",
    "divide_numbers()"
   ]
  },
  {
   "cell_type": "code",
   "execution_count": 74,
   "id": "09de8d3c",
   "metadata": {},
   "outputs": [
    {
     "name": "stdout",
     "output_type": "stream",
     "text": [
      "Error: Insufficient funds\n"
     ]
    }
   ],
   "source": [
    "def withdraw(balance,amount):\n",
    "    try:\n",
    "        if amount>balance:\n",
    "            raise ValueError(\"Insufficient funds\")\n",
    "        balance-=amount\n",
    "        return balance\n",
    "    except ValueError as ve:\n",
    "        return f\"Error: {ve}\"\n",
    "print(withdraw(1000,1500))"
   ]
  },
  {
   "cell_type": "code",
   "execution_count": 84,
   "id": "abb02589",
   "metadata": {},
   "outputs": [
    {
     "name": "stdout",
     "output_type": "stream",
     "text": [
      "Total Bill Amount: ₹ 1700\n"
     ]
    }
   ],
   "source": [
    "def electricitybill():\n",
    "    total = 0\n",
    "    try:\n",
    "        n = int(input(\"Enter the units: \"))\n",
    "\n",
    "        if n <= 100:\n",
    "            total = n * 5\n",
    "        elif n <= 200:\n",
    "            total = 100 * 5 + (n - 100) * 7\n",
    "        else:\n",
    "            total = 100 * 5 + 100 * 7 + (n - 200) * 10\n",
    "\n",
    "    except ValueError:\n",
    "        print(\"Error: Please enter a valid number for units.\")\n",
    "    else:\n",
    "        print(\"Total Bill Amount: ₹\", total)\n",
    "electricitybill()\n"
   ]
  },
  {
   "cell_type": "code",
   "execution_count": null,
   "id": "bc4b461d",
   "metadata": {},
   "outputs": [],
   "source": []
  }
 ],
 "metadata": {
  "kernelspec": {
   "display_name": "venv",
   "language": "python",
   "name": "python3"
  },
  "language_info": {
   "codemirror_mode": {
    "name": "ipython",
    "version": 3
   },
   "file_extension": ".py",
   "mimetype": "text/x-python",
   "name": "python",
   "nbconvert_exporter": "python",
   "pygments_lexer": "ipython3",
   "version": "3.11.0"
  }
 },
 "nbformat": 4,
 "nbformat_minor": 5
}
