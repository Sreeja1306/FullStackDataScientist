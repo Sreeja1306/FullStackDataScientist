{
 "cells": [
  {
   "cell_type": "code",
   "execution_count": 5,
   "id": "1deffae6",
   "metadata": {},
   "outputs": [
    {
     "name": "stdout",
     "output_type": "stream",
     "text": [
      "Before swapping : a= 10 ,b= 20\n",
      "After swapping : a= 20 ,b= 10\n"
     ]
    }
   ],
   "source": [
    "a=int(input(\"Enter first number :\"))\n",
    "b=int(input(\"Enter Second number :\"))\n",
    "print(\"Before swapping : a=\",a,\",b=\",b)\n",
    "a=a+b\n",
    "b=a-b\n",
    "a=a-b\n",
    "print(\"After swapping : a=\",a,\",b=\",b)"
   ]
  },
  {
   "cell_type": "code",
   "execution_count": 8,
   "id": "3f698ff0",
   "metadata": {},
   "outputs": [
    {
     "name": "stdout",
     "output_type": "stream",
     "text": [
      "Reversed string: ajeerS\n"
     ]
    }
   ],
   "source": [
    "text = input(\"Enter a string: \")\n",
    "reversed_str = \"\"\n",
    "for char in text:\n",
    "    reversed_str = char + reversed_str \n",
    "print(\"Reversed string:\", reversed_str)"
   ]
  },
  {
   "cell_type": "code",
   "execution_count": 13,
   "id": "43e4673c",
   "metadata": {},
   "outputs": [
    {
     "name": "stdout",
     "output_type": "stream",
     "text": [
      "Armstrong number\n"
     ]
    }
   ],
   "source": [
    "num = int(input(\"Enter a number: \"))\n",
    "n = len(str(num))\n",
    "total = 0\n",
    "for digit in str(num):\n",
    "    total += int(digit) ** n\n",
    "if num == total:\n",
    "    print(\"Armstrong number\")\n",
    "else:\n",
    "    print(\"Not an Armstrong number\")"
   ]
  },
  {
   "cell_type": "code",
   "execution_count": 14,
   "id": "4bbb5b37",
   "metadata": {},
   "outputs": [
    {
     "name": "stdout",
     "output_type": "stream",
     "text": [
      "Vowels: 5\n",
      "Consonants: 4\n"
     ]
    }
   ],
   "source": [
    "Sequence=input(\"Enter a string \")\n",
    "vowels=0\n",
    "consonants=0\n",
    "for char in Sequence:\n",
    "    if char.isalpha():\n",
    "        if char.lower() in 'aeiou':\n",
    "            vowels+=1\n",
    "        else:\n",
    "            consonants+=1\n",
    "print(\"Vowels:\",vowels)\n",
    "print(\"Consonants:\",consonants)\n"
   ]
  },
  {
   "cell_type": "code",
   "execution_count": 15,
   "id": "a3e9295c",
   "metadata": {},
   "outputs": [
    {
     "name": "stdout",
     "output_type": "stream",
     "text": [
      "10 x 1 = 10\n",
      "10 x 2 = 20\n",
      "10 x 3 = 30\n",
      "10 x 4 = 40\n",
      "10 x 5 = 50\n",
      "10 x 6 = 60\n",
      "10 x 7 = 70\n",
      "10 x 8 = 80\n",
      "10 x 9 = 90\n",
      "10 x 10 = 100\n"
     ]
    }
   ],
   "source": [
    "num=int(input())\n",
    "for i in range(10):\n",
    "    print(num,\"x\",i+1,\"=\",num*(i+1))"
   ]
  },
  {
   "cell_type": "code",
   "execution_count": 17,
   "id": "819ab22f",
   "metadata": {},
   "outputs": [
    {
     "name": "stdout",
     "output_type": "stream",
     "text": [
      "400 is a leap year\n"
     ]
    }
   ],
   "source": [
    "year=int(input())\n",
    "if(year%4==0 and year%100!=0) or (year%400==0):\n",
    "    print(year,\"is a leap year\")\n",
    "else:\n",
    "    print(year,\"is not a leap year\")\n"
   ]
  },
  {
   "cell_type": "code",
   "execution_count": 19,
   "id": "42ef42c9",
   "metadata": {},
   "outputs": [
    {
     "name": "stdout",
     "output_type": "stream",
     "text": [
      "Largest number is: 16\n"
     ]
    }
   ],
   "source": [
    "largest=map(int,input().split())\n",
    "print(\"Largest number is:\",max(largest))"
   ]
  },
  {
   "cell_type": "code",
   "execution_count": 21,
   "id": "30cf62fc",
   "metadata": {},
   "outputs": [
    {
     "name": "stdout",
     "output_type": "stream",
     "text": [
      "[12, 13, 16, 98, 100]\n",
      "Largest number is: 100\n"
     ]
    }
   ],
   "source": [
    "numbers = []\n",
    "for i in range(5):\n",
    "    num = int(input(f\"Enter number {i+1}: \"))\n",
    "    numbers.append(num)\n",
    "print(numbers)\n",
    "print(\"Largest number is:\", max(numbers))"
   ]
  },
  {
   "cell_type": "code",
   "execution_count": 23,
   "id": "bad9b749",
   "metadata": {},
   "outputs": [
    {
     "name": "stdout",
     "output_type": "stream",
     "text": [
      "Reversed string: MadaM\n",
      "The string is a palindrome\n"
     ]
    }
   ],
   "source": [
    "text = input(\"Enter a string: \")\n",
    "reversed_str = \"\"\n",
    "for char in text:\n",
    "    reversed_str = char + reversed_str \n",
    "print(\"Reversed string:\", reversed_str)\n",
    "if text==reversed_str:\n",
    "    print(\"The string is a palindrome\")\n",
    "else:\n",
    "    print(\"The string is not a palindrome\")"
   ]
  },
  {
   "cell_type": "code",
   "execution_count": 25,
   "id": "a0aea97f",
   "metadata": {},
   "outputs": [
    {
     "name": "stdout",
     "output_type": "stream",
     "text": [
      "Factorial of 0 is : 1\n"
     ]
    }
   ],
   "source": [
    "num=int(input(\"Enter a number:\"))\n",
    "factorial=1\n",
    "for i in range(1,num+1):\n",
    "    factorial=factorial*i\n",
    "print(\"Factorial of\",num,\"is :\",factorial)"
   ]
  },
  {
   "cell_type": "code",
   "execution_count": 26,
   "id": "d5d3887a",
   "metadata": {},
   "outputs": [
    {
     "name": "stdout",
     "output_type": "stream",
     "text": [
      "[15, 30, 45, 60, 75, 90]\n"
     ]
    }
   ],
   "source": [
    "numbers=[]\n",
    "for i in range(1,101):\n",
    "    if i%3==0 and i%5==0:\n",
    "       numbers.append(i)\n",
    "print(numbers) "
   ]
  },
  {
   "cell_type": "code",
   "execution_count": null,
   "id": "61dee8a6",
   "metadata": {},
   "outputs": [],
   "source": []
  }
 ],
 "metadata": {
  "kernelspec": {
   "display_name": "base",
   "language": "python",
   "name": "python3"
  },
  "language_info": {
   "codemirror_mode": {
    "name": "ipython",
    "version": 3
   },
   "file_extension": ".py",
   "mimetype": "text/x-python",
   "name": "python",
   "nbconvert_exporter": "python",
   "pygments_lexer": "ipython3",
   "version": "3.13.5"
  }
 },
 "nbformat": 4,
 "nbformat_minor": 5
}
