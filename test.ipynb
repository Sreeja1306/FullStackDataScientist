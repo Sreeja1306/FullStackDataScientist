{
 "cells": [
  {
   "cell_type": "code",
   "execution_count": 5,
   "id": "1deffae6",
   "metadata": {},
   "outputs": [
    {
     "name": "stdout",
     "output_type": "stream",
     "text": [
      "Before swapping : a= 10 ,b= 20\n",
      "After swapping : a= 20 ,b= 10\n"
     ]
    }
   ],
   "source": [
    "a=int(input(\"Enter first number :\"))\n",
    "b=int(input(\"Enter Second number :\"))\n",
    "print(\"Before swapping : a=\",a,\",b=\",b)\n",
    "a=a+b\n",
    "b=a-b\n",
    "a=a-b\n",
    "print(\"After swapping : a=\",a,\",b=\",b)"
   ]
  },
  {
   "cell_type": "code",
   "execution_count": 8,
   "id": "3f698ff0",
   "metadata": {},
   "outputs": [
    {
     "name": "stdout",
     "output_type": "stream",
     "text": [
      "Reversed string: ajeerS\n"
     ]
    }
   ],
   "source": [
    "text = input(\"Enter a string: \")\n",
    "reversed_str = \"\"\n",
    "for char in text:\n",
    "    reversed_str = char + reversed_str \n",
    "print(\"Reversed string:\", reversed_str)"
   ]
  },
  {
   "cell_type": "code",
   "execution_count": 13,
   "id": "43e4673c",
   "metadata": {},
   "outputs": [
    {
     "name": "stdout",
     "output_type": "stream",
     "text": [
      "Armstrong number\n"
     ]
    }
   ],
   "source": [
    "num = int(input(\"Enter a number: \"))\n",
    "n = len(str(num))\n",
    "total = 0\n",
    "for digit in str(num):\n",
    "    total += int(digit) ** n\n",
    "if num == total:\n",
    "    print(\"Armstrong number\")\n",
    "else:\n",
    "    print(\"Not an Armstrong number\")"
   ]
  },
  {
   "cell_type": "code",
   "execution_count": 14,
   "id": "4bbb5b37",
   "metadata": {},
   "outputs": [
    {
     "name": "stdout",
     "output_type": "stream",
     "text": [
      "Vowels: 5\n",
      "Consonants: 4\n"
     ]
    }
   ],
   "source": [
    "Sequence=input(\"Enter a string \")\n",
    "vowels=0\n",
    "consonants=0\n",
    "for char in Sequence:\n",
    "    if char.isalpha():\n",
    "        if char.lower() in 'aeiou':\n",
    "            vowels+=1\n",
    "        else:\n",
    "            consonants+=1\n",
    "print(\"Vowels:\",vowels)\n",
    "print(\"Consonants:\",consonants)\n"
   ]
  },
  {
   "cell_type": "code",
   "execution_count": 15,
   "id": "a3e9295c",
   "metadata": {},
   "outputs": [
    {
     "name": "stdout",
     "output_type": "stream",
     "text": [
      "10 x 1 = 10\n",
      "10 x 2 = 20\n",
      "10 x 3 = 30\n",
      "10 x 4 = 40\n",
      "10 x 5 = 50\n",
      "10 x 6 = 60\n",
      "10 x 7 = 70\n",
      "10 x 8 = 80\n",
      "10 x 9 = 90\n",
      "10 x 10 = 100\n"
     ]
    }
   ],
   "source": [
    "num=int(input())\n",
    "for i in range(10):\n",
    "    print(num,\"x\",i+1,\"=\",num*(i+1))"
   ]
  },
  {
   "cell_type": "code",
   "execution_count": 17,
   "id": "819ab22f",
   "metadata": {},
   "outputs": [
    {
     "name": "stdout",
     "output_type": "stream",
     "text": [
      "400 is a leap year\n"
     ]
    }
   ],
   "source": [
    "year=int(input())\n",
    "if(year%4==0 and year%100!=0) or (year%400==0):\n",
    "    print(year,\"is a leap year\")\n",
    "else:\n",
    "    print(year,\"is not a leap year\")\n"
   ]
  },
  {
   "cell_type": "code",
   "execution_count": 19,
   "id": "42ef42c9",
   "metadata": {},
   "outputs": [
    {
     "name": "stdout",
     "output_type": "stream",
     "text": [
      "Largest number is: 16\n"
     ]
    }
   ],
   "source": [
    "largest=map(int,input().split())\n",
    "print(\"Largest number is:\",max(largest))"
   ]
  },
  {
   "cell_type": "code",
   "execution_count": 21,
   "id": "30cf62fc",
   "metadata": {},
   "outputs": [
    {
     "name": "stdout",
     "output_type": "stream",
     "text": [
      "[12, 13, 16, 98, 100]\n",
      "Largest number is: 100\n"
     ]
    }
   ],
   "source": [
    "numbers = []\n",
    "for i in range(5):\n",
    "    num = int(input(f\"Enter number {i+1}: \"))\n",
    "    numbers.append(num)\n",
    "print(numbers)\n",
    "print(\"Largest number is:\", max(numbers))"
   ]
  },
  {
   "cell_type": "code",
   "execution_count": 23,
   "id": "bad9b749",
   "metadata": {},
   "outputs": [
    {
     "name": "stdout",
     "output_type": "stream",
     "text": [
      "Reversed string: MadaM\n",
      "The string is a palindrome\n"
     ]
    }
   ],
   "source": [
    "text = input(\"Enter a string: \")\n",
    "reversed_str = \"\"\n",
    "for char in text:\n",
    "    reversed_str = char + reversed_str \n",
    "print(\"Reversed string:\", reversed_str)\n",
    "if text==reversed_str:\n",
    "    print(\"The string is a palindrome\")\n",
    "else:\n",
    "    print(\"The string is not a palindrome\")"
   ]
  },
  {
   "cell_type": "code",
   "execution_count": 25,
   "id": "a0aea97f",
   "metadata": {},
   "outputs": [
    {
     "name": "stdout",
     "output_type": "stream",
     "text": [
      "Factorial of 0 is : 1\n"
     ]
    }
   ],
   "source": [
    "num=int(input(\"Enter a number:\"))\n",
    "factorial=1\n",
    "for i in range(1,num+1):\n",
    "    factorial=factorial*i\n",
    "print(\"Factorial of\",num,\"is :\",factorial)"
   ]
  },
  {
   "cell_type": "code",
   "execution_count": 26,
   "id": "d5d3887a",
   "metadata": {},
   "outputs": [
    {
     "name": "stdout",
     "output_type": "stream",
     "text": [
      "[15, 30, 45, 60, 75, 90]\n"
     ]
    }
   ],
   "source": [
    "numbers=[]\n",
    "for i in range(1,101):\n",
    "    if i%3==0 and i%5==0:\n",
    "       numbers.append(i)\n",
    "print(numbers) "
   ]
  },
  {
   "cell_type": "code",
   "execution_count": 15,
   "id": "61dee8a6",
   "metadata": {},
   "outputs": [
    {
     "name": "stdout",
     "output_type": "stream",
     "text": [
      "15 is not a prime number\n"
     ]
    }
   ],
   "source": [
    "num=int(input(\"Enter a number :\"))\n",
    "if num>1:\n",
    "    for i in range(2,num):\n",
    "        if(num%i==0):\n",
    "            print(num,\"is not a prime number\")\n",
    "            break\n",
    "    else:\n",
    "        print(num,\"is a prime number\")\n",
    "else:\n",
    "        print(num,\"is not a prime number\")            \n"
   ]
  },
  {
   "cell_type": "code",
   "execution_count": 20,
   "id": "6e43cf4f",
   "metadata": {},
   "outputs": [
    {
     "name": "stdout",
     "output_type": "stream",
     "text": [
      "scores : [12, 13, 12, 14, 15]\n",
      "Unique scores : [12, 13, 14, 15]\n",
      "The Second highest score is : 14\n"
     ]
    }
   ],
   "source": [
    "scores=list(map(int,input(\"Enter the scores:\").split()))\n",
    "print(\"scores :\",scores)\n",
    "Unique_numbers=list(set(scores))\n",
    "print(\"Unique scores :\",Unique_numbers)\n",
    "Unique_numbers.sort(reverse=True)\n",
    "if len(Unique_numbers)>=2:\n",
    "    print(\"The Second highest score is :\",Unique_numbers[1])\n",
    "else:\n",
    "    print(\"there is only one unique score\")"
   ]
  },
  {
   "cell_type": "code",
   "execution_count": 21,
   "id": "658b89f9",
   "metadata": {},
   "outputs": [
    {
     "name": "stdout",
     "output_type": "stream",
     "text": [
      "Sum of even numbers from 1 to 50 : 650\n"
     ]
    }
   ],
   "source": [
    "sum=0\n",
    "for i in range(1,50+1):\n",
    "    if i%2==0:\n",
    "        sum=sum+i\n",
    "print(\"Sum of even numbers from 1 to 50 :\",sum)\n"
   ]
  },
  {
   "cell_type": "code",
   "execution_count": 23,
   "id": "b2beb551",
   "metadata": {},
   "outputs": [
    {
     "name": "stdout",
     "output_type": "stream",
     "text": [
      "Original String : Sreeja123\n",
      "Lowercase letters : 5\n",
      "Uppercase letters : 1\n"
     ]
    }
   ],
   "source": [
    "Sequence=input(\"Enter a String :\")\n",
    "print(\"Original String :\",Sequence)\n",
    "lower=0\n",
    "upper=0\n",
    "for char in Sequence:\n",
    "    if char.isalpha():\n",
    "        if char.islower():\n",
    "            lower+=1\n",
    "        elif char.isupper():\n",
    "            upper+=1\n",
    "print(\"Lowercase letters :\",lower)\n",
    "print(\"Uppercase letters :\",upper)"
   ]
  },
  {
   "cell_type": "code",
   "execution_count": 26,
   "id": "63149fff",
   "metadata": {},
   "outputs": [
    {
     "name": "stdout",
     "output_type": "stream",
     "text": [
      "Fibanacci Series : [0, 1, 1, 2, 3, 5, 8, 13, 21, 34, 55]\n"
     ]
    }
   ],
   "source": [
    "n=int(input(\"Enter a number :\"))\n",
    "fib_seq=[0,1]\n",
    "for i in range(2,n+1):\n",
    "    next=fib_seq[i-1]+fib_seq[i-2]\n",
    "    fib_seq.append(next)\n",
    "print(\"Fibanacci Series :\",fib_seq)"
   ]
  },
  {
   "cell_type": "code",
   "execution_count": 30,
   "id": "24b951af",
   "metadata": {},
   "outputs": [
    {
     "name": "stdout",
     "output_type": "stream",
     "text": [
      "String 1: Sreeja\n",
      "String 2: ajeerS\n",
      "The strings are anargrams\n"
     ]
    }
   ],
   "source": [
    "str1=input(\"Enter a string :\")\n",
    "print(\"String 1:\",str1)\n",
    "str2=input(\"Enter a string :\")\n",
    "print(\"String 2:\",str2)\n",
    "if len(str1)==len(str2):\n",
    "    if sorted(str1)==sorted(str2):\n",
    "        print(\"The strings are anargrams\")\n",
    "    else:\n",
    "        print(\"The strings are not anargrams\")\n",
    "else:\n",
    "    print(\"The strings are not anargrams\")"
   ]
  },
  {
   "cell_type": "code",
   "execution_count": 32,
   "id": "8d328dc0",
   "metadata": {},
   "outputs": [
    {
     "name": "stdout",
     "output_type": "stream",
     "text": [
      "28 is a perfect number\n"
     ]
    }
   ],
   "source": [
    "num=int(input(\"Enter a number :\"))\n",
    "if num>0:\n",
    "    sum=0\n",
    "    for i in range(1,num):\n",
    "        if num%i==0:\n",
    "            sum=sum+i\n",
    "    if sum==num:\n",
    "        print(num,\"is a perfect number\")\n",
    "    else:\n",
    "        print(num,\"is not a perfect number\")\n",
    "else:\n",
    "    print(\"Enter a positive number\")"
   ]
  },
  {
   "cell_type": "code",
   "execution_count": null,
   "id": "0d0c017c",
   "metadata": {},
   "outputs": [
    {
     "name": "stdout",
     "output_type": "stream",
     "text": [
      "Marks : [100, 29, 67, 87, 100]\n",
      "B\n"
     ]
    }
   ],
   "source": [
    "marks=list(map(int,input(\"Enter the marks of 5 subjects:\").split()))\n",
    "print(\"Marks :\",marks)\n",
    "sum=0\n",
    "per=0\n",
    "for i in range(1,5+1):\n",
    "    sum+=marks[i-1]\n",
    "per=(sum/5)\n",
    "if per>=90:\n",
    "    print(\"A\")\n",
    "elif per>=75:\n",
    "    print(\"B\")\n",
    "elif per>=50:\n",
    "    print(\"C\")\n",
    "elif per<50:\n",
    "    print(\"Fail\")\n"
   ]
  },
  {
   "cell_type": "code",
   "execution_count": 50,
   "id": "7d2f92d8",
   "metadata": {},
   "outputs": [
    {
     "name": "stdout",
     "output_type": "stream",
     "text": [
      "Prime numbers : [2, 3, 5, 7, 11, 13, 17, 19, 23, 29, 31, 37, 41, 43, 47, 53, 59, 61, 67, 71, 73, 79, 83, 89, 97]\n"
     ]
    }
   ],
   "source": [
    "prime=[]\n",
    "for i in range(2,100+1):\n",
    "    for j in range(2,int(i**0.5)+1):\n",
    "        if(i%j==0):\n",
    "            break\n",
    "    else:\n",
    "        prime.append(i)\n",
    "print(\"Prime numbers :\",prime)\n",
    "      \n"
   ]
  },
  {
   "cell_type": "code",
   "execution_count": 56,
   "id": "8c0d8125",
   "metadata": {},
   "outputs": [
    {
     "name": "stdout",
     "output_type": "stream",
     "text": [
      "Number of words : 2\n"
     ]
    }
   ],
   "source": [
    "sentence=input(\"Enter a sentence :\")\n",
    "count=0\n",
    "inword=False\n",
    "for char in sentence:\n",
    "    if char!=\" \" and not inword:\n",
    "        count+=1\n",
    "        inword=True\n",
    "    elif char==\" \":\n",
    "        inword=False\n",
    "print(\"Number of words :\",count)"
   ]
  },
  {
   "cell_type": "code",
   "execution_count": 60,
   "id": "79891cf9",
   "metadata": {},
   "outputs": [
    {
     "name": "stdout",
     "output_type": "stream",
     "text": [
      "Final ticket price : 160.0\n"
     ]
    }
   ],
   "source": [
    "price=float(input(\"Enter ticket price :\"))\n",
    "age=int(input(\"Enter age :\"))\n",
    "student=input(\"Are you a student (yes/no) :\").lower()\n",
    "if student==\"yes\":\n",
    "    discount=0.20\n",
    "elif age>=60:\n",
    "    discount=0.10\n",
    "else:\n",
    "    discount=0\n",
    "finalprice=price-price*discount\n",
    "print(\"Final ticket price :\",finalprice)\n"
   ]
  },
  {
   "cell_type": "code",
   "execution_count": 65,
   "id": "f915f3d5",
   "metadata": {},
   "outputs": [
    {
     "name": "stdout",
     "output_type": "stream",
     "text": [
      "cart value : 450\n",
      "Total cash : 500\n"
     ]
    }
   ],
   "source": [
    "total_cart=int(input(\"Enter total cart value :\"))\n",
    "print(\"cart value :\",total_cart)\n",
    "total=0\n",
    "if total_cart>500:\n",
    "    total=total_cart\n",
    "else:\n",
    "    total=total_cart+50\n",
    "print(\"Total cash :\",total)\n"
   ]
  },
  {
   "cell_type": "code",
   "execution_count": 66,
   "id": "cf609d02",
   "metadata": {},
   "outputs": [
    {
     "name": "stdout",
     "output_type": "stream",
     "text": [
      "Marks : [100, 90, 100, 90, 100]\n",
      "A\n"
     ]
    }
   ],
   "source": [
    "marks=list(map(int,input(\"Enter the marks of 5 subjects:\").split()))\n",
    "print(\"Marks :\",marks)\n",
    "total=0\n",
    "per=0\n",
    "for i in range(1,5+1):\n",
    "    total+=marks[i-1]\n",
    "per=(total/5)\n",
    "if per>=90:\n",
    "    print(\"A\")\n",
    "elif per>=75:\n",
    "    print(\"B\")\n",
    "elif per>=50:\n",
    "    print(\"C\")\n",
    "elif per<50:\n",
    "    print(\"Fail\")\n"
   ]
  },
  {
   "cell_type": "code",
   "execution_count": 72,
   "id": "6cd22393",
   "metadata": {},
   "outputs": [
    {
     "name": "stdout",
     "output_type": "stream",
     "text": [
      "Tip amount : 57.7\n"
     ]
    }
   ],
   "source": [
    "bill=int(input(\"Enter the bill amount :\"))\n",
    "tip=0\n",
    "total=0\n",
    "if bill<500:\n",
    "    tip=0.05*bill\n",
    "elif bill>=500 and bill<=1000:\n",
    "    tip=0.1*bill\n",
    "elif bill>1000:\n",
    "    tip=0.15*bill \n",
    "print(\"Tip amount :\",tip)\n"
   ]
  },
  {
   "cell_type": "code",
   "execution_count": 74,
   "id": "1c07ed63",
   "metadata": {},
   "outputs": [
    {
     "name": "stdout",
     "output_type": "stream",
     "text": [
      "Cheapest cost for 13 months is:  5500\n"
     ]
    }
   ],
   "source": [
    "months = int(input(\"Enter membership period (in months): \"))\n",
    "month = months * 500\n",
    "six = (months//6)*2700+(months%6)*500\n",
    "twelve= (months//12)*5000+(months%12)*500\n",
    "cheapest = min(month,six,twelve)\n",
    "print(\"Cheapest cost for\", months, \"months is: \", cheapest)"
   ]
  },
  {
   "cell_type": "code",
   "execution_count": 78,
   "id": "b3f84b2a",
   "metadata": {},
   "outputs": [
    {
     "name": "stdout",
     "output_type": "stream",
     "text": [
      "Attendence : [90, 90]\n",
      "Eligible\n"
     ]
    }
   ],
   "source": [
    "num=int(input(\"Enter total number of classes:\"))\n",
    "attendence=list(map(int,input(\"Attendence of each class:\").split()))\n",
    "print(\"Attendence :\",attendence)\n",
    "for i in attendence:\n",
    "    if i<75:\n",
    "        print(\"Not Eligible\")\n",
    "        break\n",
    "else:\n",
    "    print(\"Eligible\")"
   ]
  },
  {
   "cell_type": "code",
   "execution_count": 79,
   "id": "abe64dd9",
   "metadata": {},
   "outputs": [
    {
     "name": "stdout",
     "output_type": "stream",
     "text": [
      "Successful\n"
     ]
    }
   ],
   "source": [
    "amount=int(input(\"Enter the amount :\"))\n",
    "if amount%100==0:\n",
    "    print(\"Successful\")\n",
    "else:\n",
    "    print(\"Failed\")"
   ]
  },
  {
   "cell_type": "code",
   "execution_count": 80,
   "id": "41a99387",
   "metadata": {},
   "outputs": [
    {
     "name": "stdout",
     "output_type": "stream",
     "text": [
      "Nice weather, go out!\n"
     ]
    }
   ],
   "source": [
    "temp=float(input(\"Enter the temperature in Celsius :\"))\n",
    "if temp>=35:\n",
    "    print(\"Too hot, stay indoors!\")\n",
    "elif temp>=20 and temp<35:\n",
    "    print(\"Nice weather, go out!\")\n",
    "elif temp<20:\n",
    "    print(\"It’s cold, wear warm clothes!\")"
   ]
  },
  {
   "cell_type": "code",
   "execution_count": 82,
   "id": "c9ca934e",
   "metadata": {},
   "outputs": [
    {
     "name": "stdout",
     "output_type": "stream",
     "text": [
      "Fine amount : 10\n"
     ]
    }
   ],
   "source": [
    "days=int(input(\"Enter the number of days:\"))\n",
    "fine=0\n",
    "if days>=1 and days<=5:\n",
    "    fine=10\n",
    "elif days>=6 and days<=10:\n",
    "    fine=50\n",
    "elif days>10:\n",
    "    fine=100\n",
    "print(\"Fine amount :\",fine)"
   ]
  },
  {
   "cell_type": "code",
   "execution_count": 83,
   "id": "655b9085",
   "metadata": {},
   "outputs": [
    {
     "name": "stdout",
     "output_type": "stream",
     "text": [
      "Electricity bill amount : 1650\n"
     ]
    }
   ],
   "source": [
    "units=int(input(\"Enter the number of units consumed:\"))\n",
    "if units<=100:\n",
    "    cost=units*5\n",
    "elif units>100 and units<=200:\n",
    "    cost=100*5+(units-100)*7\n",
    "elif units>200:\n",
    "    cost=100*5+100*7+(units-200)*10\n",
    "print(\"Electricity bill amount :\",cost)"
   ]
  },
  {
   "cell_type": "code",
   "execution_count": null,
   "id": "9e095d85",
   "metadata": {},
   "outputs": [],
   "source": []
  }
 ],
 "metadata": {
  "kernelspec": {
   "display_name": "base",
   "language": "python",
   "name": "python3"
  },
  "language_info": {
   "codemirror_mode": {
    "name": "ipython",
    "version": 3
   },
   "file_extension": ".py",
   "mimetype": "text/x-python",
   "name": "python",
   "nbconvert_exporter": "python",
   "pygments_lexer": "ipython3",
   "version": "3.13.5"
  }
 },
 "nbformat": 4,
 "nbformat_minor": 5
}
