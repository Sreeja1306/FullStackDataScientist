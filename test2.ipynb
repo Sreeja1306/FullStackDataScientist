{
 "cells": [
  {
   "cell_type": "code",
   "execution_count": null,
   "id": "9929b545",
   "metadata": {},
   "outputs": [
    {
     "name": "stdout",
     "output_type": "stream",
     "text": [
      "Total Bill = (123*12) + (12*3) + (12*4) = 1560\n"
     ]
    }
   ],
   "source": [
    "item1_price, item1_qty = 100, 3\n",
    "item2_price, item2_qty = 650, 5\n",
    "item3_price, item3_qty = 120, 3\n",
    "total = (item1_price * item1_qty) + (item2_price * item2_qty) + (item3_price * item3_qty)\n",
    "print(f\"Total Bill = ({item1_price}*{item1_qty}) + ({item2_price}*{item2_qty}) + ({item3_price}*{item3_qty}) = {total}\")\n"
   ]
  },
  {
   "cell_type": "code",
   "execution_count": 4,
   "id": "6e7b6c70",
   "metadata": {},
   "outputs": [
    {
     "name": "stdout",
     "output_type": "stream",
     "text": [
      "Addition = 14\n",
      "Subtraction = 10\n",
      "Multiplication = 24\n",
      "Division = 6.0\n",
      "Modulus = 0\n"
     ]
    }
   ],
   "source": [
    "num1=int(input(\"Enter first number: \"))\n",
    "num2=int(input(\"Enter second number: \"))\n",
    "print(f\"Addition = {num1+num2}\")\n",
    "print(f\"Subtraction = {num1-num2}\")\n",
    "print(f\"Multiplication = {num1*num2}\")\n",
    "print(f\"Division = {num1/num2}\")\n",
    "print(f\"Modulus = {num1%num2}\")"
   ]
  },
  {
   "cell_type": "code",
   "execution_count": 14,
   "id": "3c16ef97",
   "metadata": {},
   "outputs": [
    {
     "name": "stdout",
     "output_type": "stream",
     "text": [
      "Grade A (Excellet)\n"
     ]
    }
   ],
   "source": [
    "marks=int(input(\"Enter marks:\"))\n",
    "if marks>=90:\n",
    "    print(\"Grade A+ (Out standing)\")\n",
    "elif marks>=80 and marks<90:\n",
    "    print(\"Grade A (Excellet)\")\n",
    "elif marks>=70 and marks<80:\n",
    "    print(\"Grade B (Very Good)\")\n",
    "elif marks>=60 and marks<70:\n",
    "    print(\"Grade C (Good)\")\n",
    "elif marks<60:\n",
    "    print(\"Grade F (Fail)\")\n"
   ]
  },
  {
   "cell_type": "code",
   "execution_count": 6,
   "id": "c7619716",
   "metadata": {},
   "outputs": [
    {
     "name": "stdout",
     "output_type": "stream",
     "text": [
      "Highest Marks = 90\n",
      "Lowest Marks = 12\n",
      "Average Marks = 57.2\n"
     ]
    }
   ],
   "source": [
    "List=list(map(int,input(\"Enter marks of 5 Students:\").split()))\n",
    "highest=max(List)\n",
    "print(f\"Highest Marks = {highest}\")\n",
    "lowest=min(List)\n",
    "print(f\"Lowest Marks = {lowest}\")\n",
    "Average=sum(List)/len(List)\n",
    "print(f\"Average Marks = {Average}\")\n"
   ]
  },
  {
   "cell_type": "code",
   "execution_count": 13,
   "id": "0e5d9b81",
   "metadata": {},
   "outputs": [
    {
     "name": "stdout",
     "output_type": "stream",
     "text": [
      "Phone number of Sush: 5677543434\n"
     ]
    }
   ],
   "source": [
    "phone_book={'Sreeja':7675455678,'Sush':5677543434,'poojitha':7397890856}\n",
    "Search_Name=input(\"Search Name :\")\n",
    "print(f\"Phone number of {Search_Name}: {phone_book[Search_Name]}\")"
   ]
  },
  {
   "cell_type": "code",
   "execution_count": 26,
   "id": "33e8775b",
   "metadata": {},
   "outputs": [
    {
     "name": "stdout",
     "output_type": "stream",
     "text": [
      "Number of characters = 15\n",
      "Number of vowels = 5\n",
      "Number of words = 3\n"
     ]
    }
   ],
   "source": [
    "sentence=input(\"Enter a sentence:\")\n",
    "vowels=0\n",
    "characters=0\n",
    "words=0\n",
    "inword=False\n",
    "for i in sentence:\n",
    "    characters+=1\n",
    "    if i in 'aeiouAEIOU':\n",
    "        vowels+=1\n",
    "    if i!=\" \" and not inword:\n",
    "        words+=1\n",
    "        inword=True\n",
    "    elif i==\" \":\n",
    "        inword=False\n",
    "print(f\"Number of characters = {characters+1}\")\n",
    "print(f\"Number of vowels = {vowels}\")\n",
    "print(f\"Number of words = {words}\")"
   ]
  },
  {
   "cell_type": "code",
   "execution_count": 28,
   "id": "548f59bf",
   "metadata": {},
   "outputs": [
    {
     "name": "stdout",
     "output_type": "stream",
     "text": [
      "Compound Interest = 100.0\n",
      "Total Amount = 5100.0\n"
     ]
    }
   ],
   "source": [
    "Principal=int(input(\"Enter Principal Amount:\"))\n",
    "Rate=int(input(\"Enter Rate of Interest:\"))\n",
    "Time=int(input(\"Enter Time in years:\"))\n",
    "Type=bool(int(input(\"Enter 1 for Simple Interest and 0 for Compound Interest:\")))\n",
    "if Type:\n",
    "    SI+=(Principlal*Rate*Time)/100\n",
    "    print(f\"Simple Interest = {SI}\")\n",
    "    print(f\"Total Amount = {Principal+SI}\")\n",
    "else:\n",
    "    CI=Principal*(1+Rate/100)**Time - Principal\n",
    "    print(f\"Compound Interest = {CI}\")\n",
    "print(f\"Total Amount = {Principal+CI}\")"
   ]
  },
  {
   "cell_type": "code",
   "execution_count": 29,
   "id": "0f269b1c",
   "metadata": {},
   "outputs": [
    {
     "name": "stdout",
     "output_type": "stream",
     "text": [
      "Cipher Text: Jkjlkiji\n"
     ]
    }
   ],
   "source": [
    "msg=input(\"Enter a message:\")\n",
    "shift=int(input(\"Enter shift number:\"))\n",
    "cipher_text=\"\"\n",
    "for char in msg:\n",
    "    if char.isalpha():\n",
    "        shifted=ord(char)+shift\n",
    "        if char.islower():\n",
    "            if shifted>ord('z'):\n",
    "                shifted-=26\n",
    "        elif char.isupper():\n",
    "            if shifted>ord('Z'):\n",
    "                shifted-=26\n",
    "        cipher_text+=chr(shifted)\n",
    "    else:\n",
    "        cipher_text+=char\n",
    "print(f\"Cipher Text: {cipher_text}\")\n"
   ]
  },
  {
   "cell_type": "code",
   "execution_count": null,
   "id": "24c7d7d6",
   "metadata": {},
   "outputs": [
    {
     "name": "stdout",
     "output_type": "stream",
     "text": [
      "PIN Verified\n",
      "Withdrawal successful. Remaining balance=11000\n"
     ]
    }
   ],
   "source": [
    "PIN=int(input(\"Enter your 4-digit PIN:\"))\n",
    "Balance=int(input(\"Enter your account balance:\"))\n",
    "withdraw_amount=int(input(\"Enter amount to withdraw:\"))\n",
    "if Balance>=withdraw_amount:\n",
    "    if PIN==1234:\n",
    "        Balance-=withdraw_amount\n",
    "        print(\"PIN Verified.\")\n",
    "        print(f\"Withdrawal successful. Remaining balance={Balance}\")\n",
    "    else:\n",
    "        print(\"Incorrect PIN.\")\n",
    "else:\n",
    "    print(\"Insufficient Balance\")\n"
   ]
  },
  {
   "cell_type": "code",
   "execution_count": 33,
   "id": "f90ad4c7",
   "metadata": {},
   "outputs": [
    {
     "name": "stdout",
     "output_type": "stream",
     "text": [
      "Current Books: ['AI', 'ML', 'Ai Fundamentals']\n",
      "Total Books: 3\n"
     ]
    }
   ],
   "source": [
    "Books=input(\"Enter book names (comma separated):\").split(\",\")\n",
    "Add_Book=input(\"Enter a book name to add:\")\n",
    "Remove_Book=input(\"Enter a book name to remove:\")\n",
    "Books.append(Add_Book)\n",
    "Books.remove(Remove_Book)\n",
    "print(\"Current Books:\", Books)\n",
    "print(\"Total Books:\",len(Books))"
   ]
  },
  {
   "cell_type": "code",
   "execution_count": null,
   "id": "0d0e67c1",
   "metadata": {},
   "outputs": [],
   "source": []
  }
 ],
 "metadata": {
  "kernelspec": {
   "display_name": "venv",
   "language": "python",
   "name": "python3"
  },
  "language_info": {
   "codemirror_mode": {
    "name": "ipython",
    "version": 3
   },
   "file_extension": ".py",
   "mimetype": "text/x-python",
   "name": "python",
   "nbconvert_exporter": "python",
   "pygments_lexer": "ipython3",
   "version": "3.11.0"
  }
 },
 "nbformat": 4,
 "nbformat_minor": 5
}
